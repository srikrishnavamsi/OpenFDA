{
 "cells": [
  {
   "cell_type": "code",
   "execution_count": 54,
   "metadata": {
    "collapsed": false
   },
   "outputs": [],
   "source": [
    "import pandas as pd\n",
    "import matplotlib.pyplot as plt\n",
    "import os\n",
    "os.getcwd()\n",
    "%matplotlib inline"
   ]
  },
  {
   "cell_type": "code",
   "execution_count": 4,
   "metadata": {
    "collapsed": true
   },
   "outputs": [],
   "source": [
    "data = pd.read_csv('/Users/Sri/Documents/openFDA/Data/device-510k-0001-of-0001.csv')"
   ]
  },
  {
   "cell_type": "code",
   "execution_count": 5,
   "metadata": {
    "collapsed": false
   },
   "outputs": [
    {
     "data": {
      "text/html": [
       "<div>\n",
       "<table border=\"1\" class=\"dataframe\">\n",
       "  <thead>\n",
       "    <tr style=\"text-align: right;\">\n",
       "      <th></th>\n",
       "      <th>Unnamed: 0</th>\n",
       "      <th>advisory_committee_description</th>\n",
       "      <th>applicant</th>\n",
       "      <th>country_code</th>\n",
       "      <th>date_recieved</th>\n",
       "      <th>decision_date</th>\n",
       "      <th>device_class</th>\n",
       "      <th>expedited_review_flag</th>\n",
       "      <th>product_code</th>\n",
       "      <th>state</th>\n",
       "      <th>number_of_days_for_approval</th>\n",
       "    </tr>\n",
       "  </thead>\n",
       "  <tbody>\n",
       "    <tr>\n",
       "      <th>0</th>\n",
       "      <td>0</td>\n",
       "      <td>Ophthalmic</td>\n",
       "      <td>SOLOTICA</td>\n",
       "      <td>BR</td>\n",
       "      <td>2016-02-19</td>\n",
       "      <td>2016-08-10</td>\n",
       "      <td>2</td>\n",
       "      <td>NaN</td>\n",
       "      <td>LPL</td>\n",
       "      <td>NaN</td>\n",
       "      <td>173 days 00:00:00.000000000</td>\n",
       "    </tr>\n",
       "    <tr>\n",
       "      <th>1</th>\n",
       "      <td>1</td>\n",
       "      <td>Ophthalmic</td>\n",
       "      <td>MEDITEC OF AMERICA</td>\n",
       "      <td>US</td>\n",
       "      <td>1983-12-21</td>\n",
       "      <td>1984-04-05</td>\n",
       "      <td>2</td>\n",
       "      <td>NaN</td>\n",
       "      <td>HQF</td>\n",
       "      <td>MI</td>\n",
       "      <td>106 days 00:00:00.000000000</td>\n",
       "    </tr>\n",
       "    <tr>\n",
       "      <th>2</th>\n",
       "      <td>2</td>\n",
       "      <td>Ophthalmic</td>\n",
       "      <td>UNITED SONICS, INC.</td>\n",
       "      <td>US</td>\n",
       "      <td>1985-03-26</td>\n",
       "      <td>1985-05-31</td>\n",
       "      <td>2</td>\n",
       "      <td>NaN</td>\n",
       "      <td>HQC</td>\n",
       "      <td>NY</td>\n",
       "      <td>66 days 00:00:00.000000000</td>\n",
       "    </tr>\n",
       "    <tr>\n",
       "      <th>3</th>\n",
       "      <td>3</td>\n",
       "      <td>Ophthalmic</td>\n",
       "      <td>GRAND IMPERIAL, INC.</td>\n",
       "      <td>US</td>\n",
       "      <td>1980-12-30</td>\n",
       "      <td>1981-04-03</td>\n",
       "      <td>1</td>\n",
       "      <td>NaN</td>\n",
       "      <td>HQY</td>\n",
       "      <td>IL</td>\n",
       "      <td>94 days 00:00:00.000000000</td>\n",
       "    </tr>\n",
       "    <tr>\n",
       "      <th>4</th>\n",
       "      <td>4</td>\n",
       "      <td>Ophthalmic</td>\n",
       "      <td>SHORASHIM</td>\n",
       "      <td>US</td>\n",
       "      <td>1983-08-01</td>\n",
       "      <td>1984-02-10</td>\n",
       "      <td>1</td>\n",
       "      <td>NaN</td>\n",
       "      <td>HPT</td>\n",
       "      <td>MI</td>\n",
       "      <td>193 days 00:00:00.000000000</td>\n",
       "    </tr>\n",
       "  </tbody>\n",
       "</table>\n",
       "</div>"
      ],
      "text/plain": [
       "   Unnamed: 0 advisory_committee_description             applicant  \\\n",
       "0           0                     Ophthalmic              SOLOTICA   \n",
       "1           1                     Ophthalmic    MEDITEC OF AMERICA   \n",
       "2           2                     Ophthalmic   UNITED SONICS, INC.   \n",
       "3           3                     Ophthalmic  GRAND IMPERIAL, INC.   \n",
       "4           4                     Ophthalmic             SHORASHIM   \n",
       "\n",
       "  country_code date_recieved decision_date  device_class  \\\n",
       "0           BR    2016-02-19    2016-08-10             2   \n",
       "1           US    1983-12-21    1984-04-05             2   \n",
       "2           US    1985-03-26    1985-05-31             2   \n",
       "3           US    1980-12-30    1981-04-03             1   \n",
       "4           US    1983-08-01    1984-02-10             1   \n",
       "\n",
       "   expedited_review_flag product_code state  number_of_days_for_approval  \n",
       "0                    NaN          LPL   NaN  173 days 00:00:00.000000000  \n",
       "1                    NaN          HQF    MI  106 days 00:00:00.000000000  \n",
       "2                    NaN          HQC    NY   66 days 00:00:00.000000000  \n",
       "3                    NaN          HQY    IL   94 days 00:00:00.000000000  \n",
       "4                    NaN          HPT    MI  193 days 00:00:00.000000000  "
      ]
     },
     "execution_count": 5,
     "metadata": {},
     "output_type": "execute_result"
    }
   ],
   "source": [
    "data.head()"
   ]
  },
  {
   "cell_type": "code",
   "execution_count": 6,
   "metadata": {
    "collapsed": false
   },
   "outputs": [
    {
     "data": {
      "text/plain": [
       "4254"
      ]
     },
     "execution_count": 6,
     "metadata": {},
     "output_type": "execute_result"
    }
   ],
   "source": [
    "len(data)"
   ]
  },
  {
   "cell_type": "code",
   "execution_count": 9,
   "metadata": {
    "collapsed": false
   },
   "outputs": [
    {
     "data": {
      "text/plain": [
       "Unnamed: 0                                 int64\n",
       "advisory_committee_description            object\n",
       "applicant                                 object\n",
       "country_code                              object\n",
       "date_recieved                     datetime64[ns]\n",
       "decision_date                     datetime64[ns]\n",
       "device_class                               int64\n",
       "expedited_review_flag                    float64\n",
       "product_code                              object\n",
       "state                                     object\n",
       "number_of_days_for_approval               object\n",
       "dtype: object"
      ]
     },
     "execution_count": 9,
     "metadata": {},
     "output_type": "execute_result"
    }
   ],
   "source": [
    "data[\"decision_date\"] = pd.to_datetime(data[\"decision_date\"])\n",
    "data[\"date_recieved\"] = pd.to_datetime(data[\"date_recieved\"])\n",
    "data.dtypes"
   ]
  },
  {
   "cell_type": "markdown",
   "metadata": {},
   "source": [
    "## How did the 510(k) applications vary over time for the top 5 states?"
   ]
  },
  {
   "cell_type": "code",
   "execution_count": 10,
   "metadata": {
    "collapsed": true
   },
   "outputs": [],
   "source": [
    "df_dr = data[[\"Unnamed: 0\",\"date_recieved\", \"state\"]]"
   ]
  },
  {
   "cell_type": "code",
   "execution_count": 14,
   "metadata": {
    "collapsed": false
   },
   "outputs": [
    {
     "data": {
      "text/html": [
       "<div>\n",
       "<table border=\"1\" class=\"dataframe\">\n",
       "  <thead>\n",
       "    <tr style=\"text-align: right;\">\n",
       "      <th></th>\n",
       "      <th>Unnamed: 0</th>\n",
       "      <th>date_recieved</th>\n",
       "    </tr>\n",
       "    <tr>\n",
       "      <th>state</th>\n",
       "      <th></th>\n",
       "      <th></th>\n",
       "    </tr>\n",
       "  </thead>\n",
       "  <tbody>\n",
       "    <tr>\n",
       "      <th>CA</th>\n",
       "      <td>804</td>\n",
       "      <td>804</td>\n",
       "    </tr>\n",
       "    <tr>\n",
       "      <th>IL</th>\n",
       "      <td>530</td>\n",
       "      <td>530</td>\n",
       "    </tr>\n",
       "    <tr>\n",
       "      <th>FL</th>\n",
       "      <td>303</td>\n",
       "      <td>303</td>\n",
       "    </tr>\n",
       "    <tr>\n",
       "      <th>NY</th>\n",
       "      <td>285</td>\n",
       "      <td>285</td>\n",
       "    </tr>\n",
       "    <tr>\n",
       "      <th>TX</th>\n",
       "      <td>166</td>\n",
       "      <td>166</td>\n",
       "    </tr>\n",
       "  </tbody>\n",
       "</table>\n",
       "</div>"
      ],
      "text/plain": [
       "       Unnamed: 0  date_recieved\n",
       "state                           \n",
       "CA            804            804\n",
       "IL            530            530\n",
       "FL            303            303\n",
       "NY            285            285\n",
       "TX            166            166"
      ]
     },
     "execution_count": 14,
     "metadata": {},
     "output_type": "execute_result"
    }
   ],
   "source": [
    "df_dr.groupby(\"state\").count().sort_values(\"Unnamed: 0\", ascending=False).head()"
   ]
  },
  {
   "cell_type": "code",
   "execution_count": 34,
   "metadata": {
    "collapsed": false
   },
   "outputs": [],
   "source": [
    "ca_df = df_dr[df_dr[\"state\"]==\"CA\"].reset_index(drop=True).drop(\"Unnamed: 0\", axis=1)\n",
    "il_df = df_dr[df_dr[\"state\"]==\"IL\"].reset_index(drop=True).drop(\"Unnamed: 0\", axis=1)\n",
    "fl_df = df_dr[df_dr[\"state\"]==\"FL\"].reset_index(drop=True).drop(\"Unnamed: 0\", axis=1)\n",
    "ny_df = df_dr[df_dr[\"state\"]==\"NY\"].reset_index(drop=True).drop(\"Unnamed: 0\", axis=1)\n",
    "tx_df = df_dr[df_dr[\"state\"]==\"TX\"].reset_index(drop=True).drop(\"Unnamed: 0\", axis=1)"
   ]
  },
  {
   "cell_type": "code",
   "execution_count": 43,
   "metadata": {
    "collapsed": false
   },
   "outputs": [],
   "source": [
    "ca_df[\"year\"] = ca_df[\"date_recieved\"].dt.year\n",
    "il_df[\"year\"] = il_df[\"date_recieved\"].dt.year\n",
    "fl_df[\"year\"] = fl_df[\"date_recieved\"].dt.year\n",
    "ny_df[\"year\"] = ny_df[\"date_recieved\"].dt.year\n",
    "tx_df[\"year\"] = tx_df[\"date_recieved\"].dt.year"
   ]
  },
  {
   "cell_type": "code",
   "execution_count": 59,
   "metadata": {
    "collapsed": false
   },
   "outputs": [
    {
     "data": {
      "text/plain": [
       "<matplotlib.axes._subplots.AxesSubplot at 0x111a57588>"
      ]
     },
     "execution_count": 59,
     "metadata": {},
     "output_type": "execute_result"
    },
    {
     "data": {
      "image/png": "[encoded data removed]",
      "text/plain": [
       "<matplotlib.figure.Figure at 0x111a68c88>"
      ]
     },
     "metadata": {},
     "output_type": "display_data"
    }
   ],
   "source": [
    "\n",
    "ca_df.groupby(\"year\").size().plot()\n",
    "il_df.groupby(\"year\").size().plot()\n",
    "fl_df.groupby(\"year\").size().plot()\n",
    "ny_df.groupby(\"year\").size().plot()\n",
    "tx_df.groupby(\"year\").size().plot()"
   ]
  },
  {
   "cell_type": "code",
   "execution_count": null,
   "metadata": {
    "collapsed": true
   },
   "outputs": [],
   "source": []
  }
 ],
 "metadata": {
  "kernelspec": {
   "display_name": "Python 3",
   "language": "python",
   "name": "python3"
  },
  "language_info": {
   "codemirror_mode": {
    "name": "ipython",
    "version": 3
   },
   "file_extension": ".py",
   "mimetype": "text/x-python",
   "name": "python",
   "nbconvert_exporter": "python",
   "pygments_lexer": "ipython3",
   "version": "3.6.0"
  }
 },
 "nbformat": 4,
 "nbformat_minor": 2
}
