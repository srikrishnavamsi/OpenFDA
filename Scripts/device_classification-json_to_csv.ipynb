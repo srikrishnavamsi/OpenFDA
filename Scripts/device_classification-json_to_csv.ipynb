{
 "cells": [
  {
   "cell_type": "markdown",
   "metadata": {},
   "source": [
    "# Opthalmic open data project"
   ]
  },
  {
   "cell_type": "code",
   "execution_count": 1,
   "metadata": {
    "collapsed": false
   },
   "outputs": [],
   "source": [
    "import os\n",
    "os.getcwd()\n",
    "import json\n",
    "import pandas as pd\n",
    "import numpy as np"
   ]
  },
  {
   "cell_type": "code",
   "execution_count": 2,
   "metadata": {
    "collapsed": false
   },
   "outputs": [],
   "source": [
    "os.chdir('/Users/Sri/Documents/openFDA/Data/')"
   ]
  },
  {
   "cell_type": "code",
   "execution_count": 3,
   "metadata": {
    "collapsed": false
   },
   "outputs": [
    {
     "data": {
      "text/plain": [
       "['.DS_Store',\n",
       " 'device-classification-0001-of-0001.json',\n",
       " 'device-classification-0001-of-0001.json.zip']"
      ]
     },
     "execution_count": 3,
     "metadata": {},
     "output_type": "execute_result"
    }
   ],
   "source": [
    "os.listdir(os.getcwd())"
   ]
  },
  {
   "cell_type": "code",
   "execution_count": 4,
   "metadata": {
    "collapsed": true
   },
   "outputs": [],
   "source": [
    "with open('/Users/Sri/Documents/openFDA/Data/device-classification-0001-of-0001.json') as json_file:\n",
    "    data = json.load(json_file)\n"
   ]
  },
  {
   "cell_type": "markdown",
   "metadata": {},
   "source": [
    "total Number of records in device classification endpoint: 6176"
   ]
  },
  {
   "cell_type": "code",
   "execution_count": 5,
   "metadata": {
    "collapsed": false
   },
   "outputs": [
    {
     "name": "stdout",
     "output_type": "stream",
     "text": [
      "{'skip': 0, 'total': 6176, 'limit': 6176}\n"
     ]
    }
   ],
   "source": [
    "print(data['meta']['results'])"
   ]
  },
  {
   "cell_type": "code",
   "execution_count": 6,
   "metadata": {
    "collapsed": false
   },
   "outputs": [
    {
     "name": "stdout",
     "output_type": "stream",
     "text": [
      "<class 'str'> definition\n",
      "<class 'str'> implant_flag\n",
      "<class 'str'> review_code\n",
      "<class 'str'> gmp_exempt_flag\n",
      "<class 'str'> third_party_flag\n",
      "<class 'str'> regulation_number\n",
      "<class 'str'> device_class\n",
      "<class 'dict'> openfda\n",
      "<class 'str'> medical_specialty\n",
      "<class 'str'> device_name\n",
      "<class 'str'> life_sustain_support_flag\n",
      "<class 'str'> review_panel\n",
      "<class 'str'> submission_type_id\n",
      "<class 'str'> medical_specialty_description\n",
      "<class 'str'> product_code\n",
      "<class 'str'> unclassified_reason\n"
     ]
    }
   ],
   "source": [
    "for key in data['results'][0].keys():\n",
    "    print(type(data['results'][0][key]), key)"
   ]
  },
  {
   "cell_type": "code",
   "execution_count": 7,
   "metadata": {
    "collapsed": false
   },
   "outputs": [
    {
     "name": "stdout",
     "output_type": "stream",
     "text": [
      "6176\n"
     ]
    }
   ],
   "source": [
    "print(len(data['results']))"
   ]
  },
  {
   "cell_type": "code",
   "execution_count": 8,
   "metadata": {
    "collapsed": false
   },
   "outputs": [],
   "source": [
    "device_list = []\n",
    "for item in data['results']:\n",
    "    if item['medical_specialty_description'] == \"Ophthalmic\":\n",
    "        device_list.append(item)\n",
    "        "
   ]
  },
  {
   "cell_type": "code",
   "execution_count": 9,
   "metadata": {
    "collapsed": false
   },
   "outputs": [
    {
     "data": {
      "text/plain": [
       "276"
      ]
     },
     "execution_count": 9,
     "metadata": {},
     "output_type": "execute_result"
    }
   ],
   "source": [
    "len(device_list)"
   ]
  },
  {
   "cell_type": "markdown",
   "metadata": {},
   "source": [
    "Number of devices classified into opthalmic devices: 276"
   ]
  },
  {
   "cell_type": "markdown",
   "metadata": {},
   "source": [
    "Keys found in device classification data:\n",
    "{'definition', 'device_class', 'device_name', 'gmp_exempt_flag', 'implant_flag',\n",
    " 'life_sustain_support_flag', 'medical_specialty', 'medical_specialty_description', 'openfda': {'fei_number',\n",
    "  'registration_number'},\n",
    " 'product_code',\n",
    " 'regulation_number',\n",
    " 'review_code',\n",
    " 'review_panel',\n",
    " 'submission_type_id',\n",
    " 'third_party_flag',\n",
    " 'unclassified_reason'}"
   ]
  },
  {
   "cell_type": "code",
   "execution_count": 10,
   "metadata": {
    "collapsed": false
   },
   "outputs": [],
   "source": [
    "results = {}\n",
    "for item in device_list:\n",
    "    for key in item.keys():\n",
    "        if isinstance(item[key], str):\n",
    "            if key in results.keys():\n",
    "                try:\n",
    "                    results[key].append(item[key])\n",
    "                except keyerror:\n",
    "                    results[key].append(np.NaN)\n",
    "            else:\n",
    "                results[key] = []\n",
    "                try:\n",
    "                    results[key].append(item[key])\n",
    "                except keyerror:\n",
    "                    results[key].append(item[key])\n",
    "            \n",
    "                "
   ]
  },
  {
   "cell_type": "code",
   "execution_count": 11,
   "metadata": {
    "collapsed": false
   },
   "outputs": [],
   "source": [
    "# del results['definition']"
   ]
  },
  {
   "cell_type": "code",
   "execution_count": 12,
   "metadata": {
    "collapsed": false
   },
   "outputs": [],
   "source": [
    "results_df = pd.DataFrame(results)"
   ]
  },
  {
   "cell_type": "code",
   "execution_count": 13,
   "metadata": {
    "collapsed": false
   },
   "outputs": [
    {
     "data": {
      "text/html": [
       "<div>\n",
       "<table border=\"1\" class=\"dataframe\">\n",
       "  <thead>\n",
       "    <tr style=\"text-align: right;\">\n",
       "      <th></th>\n",
       "      <th>definition</th>\n",
       "      <th>device_class</th>\n",
       "      <th>device_name</th>\n",
       "      <th>gmp_exempt_flag</th>\n",
       "      <th>implant_flag</th>\n",
       "      <th>life_sustain_support_flag</th>\n",
       "      <th>medical_specialty</th>\n",
       "      <th>medical_specialty_description</th>\n",
       "      <th>product_code</th>\n",
       "      <th>regulation_number</th>\n",
       "      <th>review_code</th>\n",
       "      <th>review_panel</th>\n",
       "      <th>submission_type_id</th>\n",
       "      <th>third_party_flag</th>\n",
       "      <th>unclassified_reason</th>\n",
       "    </tr>\n",
       "  </thead>\n",
       "  <tbody>\n",
       "    <tr>\n",
       "      <th>0</th>\n",
       "      <td></td>\n",
       "      <td>1</td>\n",
       "      <td>Lens, Maddox</td>\n",
       "      <td>Y</td>\n",
       "      <td>N</td>\n",
       "      <td>N</td>\n",
       "      <td>OP</td>\n",
       "      <td>Ophthalmic</td>\n",
       "      <td>HKR</td>\n",
       "      <td>886.1400</td>\n",
       "      <td></td>\n",
       "      <td>OP</td>\n",
       "      <td>4</td>\n",
       "      <td>N</td>\n",
       "      <td></td>\n",
       "    </tr>\n",
       "    <tr>\n",
       "      <th>1</th>\n",
       "      <td></td>\n",
       "      <td>2</td>\n",
       "      <td>Calibrator, Tonometer</td>\n",
       "      <td>N</td>\n",
       "      <td>N</td>\n",
       "      <td>N</td>\n",
       "      <td>OP</td>\n",
       "      <td>Ophthalmic</td>\n",
       "      <td>HLA</td>\n",
       "      <td>886.1930</td>\n",
       "      <td></td>\n",
       "      <td>OP</td>\n",
       "      <td>1</td>\n",
       "      <td>P</td>\n",
       "      <td></td>\n",
       "    </tr>\n",
       "    <tr>\n",
       "      <th>2</th>\n",
       "      <td>AC-powered or non-powered device intended to s...</td>\n",
       "      <td>1</td>\n",
       "      <td>Stand, Instrument, Ophthalmic, Battery Powered</td>\n",
       "      <td>Y</td>\n",
       "      <td>N</td>\n",
       "      <td>N</td>\n",
       "      <td>OP</td>\n",
       "      <td>Ophthalmic</td>\n",
       "      <td>NOI</td>\n",
       "      <td>886.1860</td>\n",
       "      <td></td>\n",
       "      <td>OP</td>\n",
       "      <td>4</td>\n",
       "      <td>N</td>\n",
       "      <td></td>\n",
       "    </tr>\n",
       "    <tr>\n",
       "      <th>3</th>\n",
       "      <td></td>\n",
       "      <td>2</td>\n",
       "      <td>Ophthalmoscope, Battery-Powered</td>\n",
       "      <td>N</td>\n",
       "      <td>N</td>\n",
       "      <td>N</td>\n",
       "      <td>OP</td>\n",
       "      <td>Ophthalmic</td>\n",
       "      <td>HLJ</td>\n",
       "      <td>886.1570</td>\n",
       "      <td>M</td>\n",
       "      <td>OP</td>\n",
       "      <td>4</td>\n",
       "      <td>Y</td>\n",
       "      <td></td>\n",
       "    </tr>\n",
       "    <tr>\n",
       "      <th>4</th>\n",
       "      <td></td>\n",
       "      <td>1</td>\n",
       "      <td>Cystotome</td>\n",
       "      <td>N</td>\n",
       "      <td>N</td>\n",
       "      <td>N</td>\n",
       "      <td>OP</td>\n",
       "      <td>Ophthalmic</td>\n",
       "      <td>HNY</td>\n",
       "      <td>886.4350</td>\n",
       "      <td></td>\n",
       "      <td>OP</td>\n",
       "      <td>4</td>\n",
       "      <td>N</td>\n",
       "      <td></td>\n",
       "    </tr>\n",
       "  </tbody>\n",
       "</table>\n",
       "</div>"
      ],
      "text/plain": [
       "                                          definition device_class  \\\n",
       "0                                                               1   \n",
       "1                                                               2   \n",
       "2  AC-powered or non-powered device intended to s...            1   \n",
       "3                                                               2   \n",
       "4                                                               1   \n",
       "\n",
       "                                      device_name gmp_exempt_flag  \\\n",
       "0                                    Lens, Maddox               Y   \n",
       "1                           Calibrator, Tonometer               N   \n",
       "2  Stand, Instrument, Ophthalmic, Battery Powered               Y   \n",
       "3                 Ophthalmoscope, Battery-Powered               N   \n",
       "4                                       Cystotome               N   \n",
       "\n",
       "  implant_flag life_sustain_support_flag medical_specialty  \\\n",
       "0            N                         N                OP   \n",
       "1            N                         N                OP   \n",
       "2            N                         N                OP   \n",
       "3            N                         N                OP   \n",
       "4            N                         N                OP   \n",
       "\n",
       "  medical_specialty_description product_code regulation_number review_code  \\\n",
       "0                    Ophthalmic          HKR          886.1400               \n",
       "1                    Ophthalmic          HLA          886.1930               \n",
       "2                    Ophthalmic          NOI          886.1860               \n",
       "3                    Ophthalmic          HLJ          886.1570           M   \n",
       "4                    Ophthalmic          HNY          886.4350               \n",
       "\n",
       "  review_panel submission_type_id third_party_flag unclassified_reason  \n",
       "0           OP                  4                N                      \n",
       "1           OP                  1                P                      \n",
       "2           OP                  4                N                      \n",
       "3           OP                  4                Y                      \n",
       "4           OP                  4                N                      "
      ]
     },
     "execution_count": 13,
     "metadata": {},
     "output_type": "execute_result"
    }
   ],
   "source": [
    "results_df.head()"
   ]
  },
  {
   "cell_type": "code",
   "execution_count": 14,
   "metadata": {
    "collapsed": true
   },
   "outputs": [],
   "source": [
    "results_df.to_csv(\"Ophthalmic_classified_devices.csv\")"
   ]
  },
  {
   "cell_type": "code",
   "execution_count": null,
   "metadata": {
    "collapsed": true
   },
   "outputs": [],
   "source": []
  }
 ],
 "metadata": {
  "kernelspec": {
   "display_name": "Python 3",
   "language": "python",
   "name": "python3"
  },
  "language_info": {
   "codemirror_mode": {
    "name": "ipython",
    "version": 3
   },
   "file_extension": ".py",
   "mimetype": "text/x-python",
   "name": "python",
   "nbconvert_exporter": "python",
   "pygments_lexer": "ipython3",
   "version": "3.6.0"
  }
 },
 "nbformat": 4,
 "nbformat_minor": 2
}
